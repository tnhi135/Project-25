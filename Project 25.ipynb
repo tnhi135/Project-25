{
 "cells": [
  {
   "cell_type": "markdown",
   "id": "f44ee413",
   "metadata": {},
   "source": [
    "# 1) Utilize a random 80-20 split of the original dataset in term of training, testing ratio"
   ]
  },
  {
   "cell_type": "code",
   "execution_count": 1,
   "id": "8ea4a003",
   "metadata": {},
   "outputs": [
    {
     "data": {
      "text/html": [
       "<style type=\"text/css\">\n",
       "</style>\n",
       "<table id=\"T_6c998\" style='display:inline'>\n",
       "  <caption>Training MRPC Data</caption>\n",
       "  <thead>\n",
       "    <tr>\n",
       "      <th class=\"blank level0\" >&nbsp;</th>\n",
       "      <th id=\"T_6c998_level0_col0\" class=\"col_heading level0 col0\" >Quality</th>\n",
       "      <th id=\"T_6c998_level0_col1\" class=\"col_heading level0 col1\" >#1 ID</th>\n",
       "      <th id=\"T_6c998_level0_col2\" class=\"col_heading level0 col2\" >#2 ID</th>\n",
       "      <th id=\"T_6c998_level0_col3\" class=\"col_heading level0 col3\" >#1 String</th>\n",
       "      <th id=\"T_6c998_level0_col4\" class=\"col_heading level0 col4\" >#2 String</th>\n",
       "    </tr>\n",
       "  </thead>\n",
       "  <tbody>\n",
       "    <tr>\n",
       "      <th id=\"T_6c998_level0_row0\" class=\"row_heading level0 row0\" >3265</th>\n",
       "      <td id=\"T_6c998_row0_col0\" class=\"data row0 col0\" >0</td>\n",
       "      <td id=\"T_6c998_row0_col1\" class=\"data row0 col1\" >2760410</td>\n",
       "      <td id=\"T_6c998_row0_col2\" class=\"data row0 col2\" >2760324</td>\n",
       "      <td id=\"T_6c998_row0_col3\" class=\"data row0 col3\" >Excluding the impact of accounting changes, Ford would have earned 13 cents a share.</td>\n",
       "      <td id=\"T_6c998_row0_col4\" class=\"data row0 col4\" >Excluding the $56 million charge and the accounting change, Ford's third-quarter earnings amounted to 15 cents a share.</td>\n",
       "    </tr>\n",
       "    <tr>\n",
       "      <th id=\"T_6c998_level0_row1\" class=\"row_heading level0 row1\" >2859</th>\n",
       "      <td id=\"T_6c998_row1_col0\" class=\"data row1 col0\" >1</td>\n",
       "      <td id=\"T_6c998_row1_col1\" class=\"data row1 col1\" >698940</td>\n",
       "      <td id=\"T_6c998_row1_col2\" class=\"data row1 col2\" >698952</td>\n",
       "      <td id=\"T_6c998_row1_col3\" class=\"data row1 col3\" >Martha Stewart shares fell $2.03, about 18 percent, to $9.17 and were the NYSE's biggest percentage loser.</td>\n",
       "      <td id=\"T_6c998_row1_col4\" class=\"data row1 col4\" >Its shares fell 4.6 percent, or $4.04, to $83.38 and was the blue-chip Dow's biggest percent loser.</td>\n",
       "    </tr>\n",
       "    <tr>\n",
       "      <th id=\"T_6c998_level0_row2\" class=\"row_heading level0 row2\" >4692</th>\n",
       "      <td id=\"T_6c998_row2_col0\" class=\"data row2 col0\" >1</td>\n",
       "      <td id=\"T_6c998_row2_col1\" class=\"data row2 col1\" >2706235</td>\n",
       "      <td id=\"T_6c998_row2_col2\" class=\"data row2 col2\" >2706274</td>\n",
       "      <td id=\"T_6c998_row2_col3\" class=\"data row2 col3\" >Jail warden Gene Fischi said said Selenski and Bolton broke their 12-inch-by-18-inch cell window, threw a mattress to the ground and shimmied down the rope to a second-story roof.</td>\n",
       "      <td id=\"T_6c998_row2_col4\" class=\"data row2 col4\" >Warden Gene Fischi said the two inmates broke a 12-by-18-inch cell window, threw a mattress to the ground, and clambered down the makeshift rope to a second-story roof.</td>\n",
       "    </tr>\n",
       "    <tr>\n",
       "      <th id=\"T_6c998_level0_row3\" class=\"row_heading level0 row3\" >5694</th>\n",
       "      <td id=\"T_6c998_row3_col0\" class=\"data row3 col0\" >1</td>\n",
       "      <td id=\"T_6c998_row3_col1\" class=\"data row3 col1\" >364462</td>\n",
       "      <td id=\"T_6c998_row3_col2\" class=\"data row3 col2\" >364510</td>\n",
       "      <td id=\"T_6c998_row3_col3\" class=\"data row3 col3\" >U.S. prosecutors have arrested more than 130 individuals and have seized more than $17 million in a continuing crackdown on Internet fraud and abuse.</td>\n",
       "      <td id=\"T_6c998_row3_col4\" class=\"data row3 col4\" >More than 130 people have been arrested and $17 million worth of property seized in an Internet fraud sweep announced Friday by three U.S. government agencies.</td>\n",
       "    </tr>\n",
       "    <tr>\n",
       "      <th id=\"T_6c998_level0_row4\" class=\"row_heading level0 row4\" >3105</th>\n",
       "      <td id=\"T_6c998_row4_col0\" class=\"data row4 col0\" >1</td>\n",
       "      <td id=\"T_6c998_row4_col1\" class=\"data row4 col1\" >327456</td>\n",
       "      <td id=\"T_6c998_row4_col2\" class=\"data row4 col2\" >327366</td>\n",
       "      <td id=\"T_6c998_row4_col3\" class=\"data row4 col3\" >Economists said that raised the odds of a rate cut at the Fed's next meeting on June 24-25.</td>\n",
       "      <td id=\"T_6c998_row4_col4\" class=\"data row4 col4\" >Economists said those concerns raised the odds that the Fed might reduce rates at its next meeting on June 24-25.</td>\n",
       "    </tr>\n",
       "  </tbody>\n",
       "</table>\n",
       "   <style type=\"text/css\">\n",
       "</style>\n",
       "<table id=\"T_a1544\" style='display:inline'>\n",
       "  <caption>Testing MRPC Data</caption>\n",
       "  <thead>\n",
       "    <tr>\n",
       "      <th class=\"blank level0\" >&nbsp;</th>\n",
       "      <th id=\"T_a1544_level0_col0\" class=\"col_heading level0 col0\" >Quality</th>\n",
       "      <th id=\"T_a1544_level0_col1\" class=\"col_heading level0 col1\" >#1 ID</th>\n",
       "      <th id=\"T_a1544_level0_col2\" class=\"col_heading level0 col2\" >#2 ID</th>\n",
       "      <th id=\"T_a1544_level0_col3\" class=\"col_heading level0 col3\" >#1 String</th>\n",
       "      <th id=\"T_a1544_level0_col4\" class=\"col_heading level0 col4\" >#2 String</th>\n",
       "    </tr>\n",
       "  </thead>\n",
       "  <tbody>\n",
       "    <tr>\n",
       "      <th id=\"T_a1544_level0_row0\" class=\"row_heading level0 row0\" >3737</th>\n",
       "      <td id=\"T_a1544_row0_col0\" class=\"data row0 col0\" >1</td>\n",
       "      <td id=\"T_a1544_row0_col1\" class=\"data row0 col1\" >1621176</td>\n",
       "      <td id=\"T_a1544_row0_col2\" class=\"data row0 col2\" >1621114</td>\n",
       "      <td id=\"T_a1544_row0_col3\" class=\"data row0 col3\" >It is publishing the studies in the July issue of its Journal of Allergy and Clinical Immunology.</td>\n",
       "      <td id=\"T_a1544_row0_col4\" class=\"data row0 col4\" >The reports are among several published this week in the Journal of Allergy and Clinical Immunology.</td>\n",
       "    </tr>\n",
       "    <tr>\n",
       "      <th id=\"T_a1544_level0_row1\" class=\"row_heading level0 row1\" >1103</th>\n",
       "      <td id=\"T_a1544_row1_col0\" class=\"data row1 col0\" >0</td>\n",
       "      <td id=\"T_a1544_row1_col1\" class=\"data row1 col1\" >516006</td>\n",
       "      <td id=\"T_a1544_row1_col2\" class=\"data row1 col2\" >515989</td>\n",
       "      <td id=\"T_a1544_row1_col3\" class=\"data row1 col3\" >Responding later, Edward Skyler, a spokesman for the mayor, said, \"The comptroller's statements, while noteworthy for their sensationalism, bear no relation to the facts.</td>\n",
       "      <td id=\"T_a1544_row1_col4\" class=\"data row1 col4\" >Jordan Barowitz, a spokesman for Republican Mayor Michael Bloomberg said: \"The Comptroller's statements, while noteworthy for their sensationalism, bear no relation to the facts.\"</td>\n",
       "    </tr>\n",
       "    <tr>\n",
       "      <th id=\"T_a1544_level0_row2\" class=\"row_heading level0 row2\" >812</th>\n",
       "      <td id=\"T_a1544_row2_col0\" class=\"data row2 col0\" >0</td>\n",
       "      <td id=\"T_a1544_row2_col1\" class=\"data row2 col1\" >2128530</td>\n",
       "      <td id=\"T_a1544_row2_col2\" class=\"data row2 col2\" >2128455</td>\n",
       "      <td id=\"T_a1544_row2_col3\" class=\"data row2 col3\" >However, EPA officials would not confirm the 20 percent figure.</td>\n",
       "      <td id=\"T_a1544_row2_col4\" class=\"data row2 col4\" >Only in the past few weeks have officials settled on the 20 percent figure.</td>\n",
       "    </tr>\n",
       "    <tr>\n",
       "      <th id=\"T_a1544_level0_row3\" class=\"row_heading level0 row3\" >1632</th>\n",
       "      <td id=\"T_a1544_row3_col0\" class=\"data row3 col0\" >1</td>\n",
       "      <td id=\"T_a1544_row3_col1\" class=\"data row3 col1\" >987465</td>\n",
       "      <td id=\"T_a1544_row3_col2\" class=\"data row3 col2\" >987205</td>\n",
       "      <td id=\"T_a1544_row3_col3\" class=\"data row3 col3\" >However, George Heath, a Fort Campbell spokesman, said shortly after the attack that Akbar had \"an attitude problem\".</td>\n",
       "      <td id=\"T_a1544_row3_col4\" class=\"data row3 col4\" >However, a Fort Campbell spokesman, said that Akbar had \"an attitude problem.\"</td>\n",
       "    </tr>\n",
       "    <tr>\n",
       "      <th id=\"T_a1544_level0_row4\" class=\"row_heading level0 row4\" >1128</th>\n",
       "      <td id=\"T_a1544_row4_col0\" class=\"data row4 col0\" >1</td>\n",
       "      <td id=\"T_a1544_row4_col1\" class=\"data row4 col1\" >1379534</td>\n",
       "      <td id=\"T_a1544_row4_col2\" class=\"data row4 col2\" >1379472</td>\n",
       "      <td id=\"T_a1544_row4_col3\" class=\"data row4 col3\" >Five Big East schools, Connecticut, Pittsburgh, Rutgers, Virginia Tech and West Virginia, filed the lawsuit June 6.</td>\n",
       "      <td id=\"T_a1544_row4_col4\" class=\"data row4 col4\" >Pittsburgh, West Virginia, Rutgers, Connecticut and Virginia Tech filed the lawsuit this month in Hartford, Conn.</td>\n",
       "    </tr>\n",
       "  </tbody>\n",
       "</table>\n",
       "   "
      ],
      "text/plain": [
       "<IPython.core.display.HTML object>"
      ]
     },
     "metadata": {},
     "output_type": "display_data"
    }
   ],
   "source": [
    "import pandas as pd\n",
    "from sklearn.model_selection import train_test_split\n",
    "from IPython.display import display, HTML\n",
    "\n",
    "# Function display data frames side by side\n",
    "def display_side_by_side(dfs:list, captions:list):\n",
    "    \"\"\"Display tables side by side \n",
    "    Input:\n",
    "        dfs: list of pandas.DataFrame\n",
    "        captions: list of table captions\n",
    "    \"\"\"\n",
    "    output = \"\"\n",
    "    combined = dict(zip(captions, dfs))\n",
    "    for caption, df in combined.items():\n",
    "        output += df.style.set_table_attributes(\"style='display:inline'\").set_caption(caption)._repr_html_()\n",
    "        output += \"\\xa0\\xa0\\xa0\"\n",
    "    display(HTML(output))\n",
    "    \n",
    "# Read training data (the first 30% of the initial data) as dataframe\n",
    "msr_paraphrase_train = pd.read_csv(\"msr_paraphrase_train.txt\", delimiter=\"\\t\", quoting = 3)\n",
    "msr_paraphrase_train[[\"#1 String\", \"#2 String\"]] = msr_paraphrase_train[[\"#1 String\", \"#2 String\"]].astype('str')\n",
    "\n",
    "# Read testing data (the last 70%) as dataframe\n",
    "msr_paraphrase_test = pd.read_csv(\"msr_paraphrase_test.txt\", delimiter=\"\\t\", quoting = 3)\n",
    "msr_paraphrase_test[[\"#1 String\", \"#2 String\"]] = msr_paraphrase_test[[\"#1 String\", \"#2 String\"]].astype('str')\n",
    "\n",
    "# Combine training data and testing data to return it into original data\n",
    "msrp_data = pd.concat([msr_paraphrase_train, msr_paraphrase_test], ignore_index=True)\n",
    "\n",
    "#Split the original data set under training and testing data at the ratio of 80-20\n",
    "X = msrp_data\n",
    "y = X[\"Quality\"]\n",
    "X_train, X_test, y_train, y_test = train_test_split(X, y, test_size=0.2, random_state=42)\n",
    "\n",
    "# Display some rows of training data and testing data\n",
    "display_side_by_side([X_train.head(5), X_test.head(5)], ['Training MRPC Data', 'Testing MRPC Data'])"
   ]
  },
  {
   "cell_type": "markdown",
   "id": "2e6fa61f",
   "metadata": {},
   "source": [
    "# 2) Consider a pair of sentences is a paraphrase or not by using FuzzyWuzzy on training and testing data"
   ]
  },
  {
   "cell_type": "markdown",
   "id": "ffe13fb9",
   "metadata": {},
   "source": [
    "## Calculate FuzzyWuzzy"
   ]
  },
  {
   "cell_type": "code",
   "execution_count": 2,
   "id": "6796f8ae",
   "metadata": {},
   "outputs": [
    {
     "data": {
      "text/html": [
       "<style type=\"text/css\">\n",
       "</style>\n",
       "<table id=\"T_70113\" style='display:inline'>\n",
       "  <caption>Fuzzy score of training MRPC Data</caption>\n",
       "  <thead>\n",
       "    <tr>\n",
       "      <th class=\"blank level0\" >&nbsp;</th>\n",
       "      <th id=\"T_70113_level0_col0\" class=\"col_heading level0 col0\" >Quality</th>\n",
       "      <th id=\"T_70113_level0_col1\" class=\"col_heading level0 col1\" >#1 ID</th>\n",
       "      <th id=\"T_70113_level0_col2\" class=\"col_heading level0 col2\" >#2 ID</th>\n",
       "      <th id=\"T_70113_level0_col3\" class=\"col_heading level0 col3\" >#1 String</th>\n",
       "      <th id=\"T_70113_level0_col4\" class=\"col_heading level0 col4\" >#2 String</th>\n",
       "      <th id=\"T_70113_level0_col5\" class=\"col_heading level0 col5\" >fuzz_score</th>\n",
       "    </tr>\n",
       "  </thead>\n",
       "  <tbody>\n",
       "    <tr>\n",
       "      <th id=\"T_70113_level0_row0\" class=\"row_heading level0 row0\" >3265</th>\n",
       "      <td id=\"T_70113_row0_col0\" class=\"data row0 col0\" >0</td>\n",
       "      <td id=\"T_70113_row0_col1\" class=\"data row0 col1\" >2760410</td>\n",
       "      <td id=\"T_70113_row0_col2\" class=\"data row0 col2\" >2760324</td>\n",
       "      <td id=\"T_70113_row0_col3\" class=\"data row0 col3\" >Excluding the impact of accounting changes, Ford would have earned 13 cents a share.</td>\n",
       "      <td id=\"T_70113_row0_col4\" class=\"data row0 col4\" >Excluding the $56 million charge and the accounting change, Ford's third-quarter earnings amounted to 15 cents a share.</td>\n",
       "      <td id=\"T_70113_row0_col5\" class=\"data row0 col5\" >68</td>\n",
       "    </tr>\n",
       "    <tr>\n",
       "      <th id=\"T_70113_level0_row1\" class=\"row_heading level0 row1\" >2859</th>\n",
       "      <td id=\"T_70113_row1_col0\" class=\"data row1 col0\" >1</td>\n",
       "      <td id=\"T_70113_row1_col1\" class=\"data row1 col1\" >698940</td>\n",
       "      <td id=\"T_70113_row1_col2\" class=\"data row1 col2\" >698952</td>\n",
       "      <td id=\"T_70113_row1_col3\" class=\"data row1 col3\" >Martha Stewart shares fell $2.03, about 18 percent, to $9.17 and were the NYSE's biggest percentage loser.</td>\n",
       "      <td id=\"T_70113_row1_col4\" class=\"data row1 col4\" >Its shares fell 4.6 percent, or $4.04, to $83.38 and was the blue-chip Dow's biggest percent loser.</td>\n",
       "      <td id=\"T_70113_row1_col5\" class=\"data row1 col5\" >64</td>\n",
       "    </tr>\n",
       "    <tr>\n",
       "      <th id=\"T_70113_level0_row2\" class=\"row_heading level0 row2\" >4692</th>\n",
       "      <td id=\"T_70113_row2_col0\" class=\"data row2 col0\" >1</td>\n",
       "      <td id=\"T_70113_row2_col1\" class=\"data row2 col1\" >2706235</td>\n",
       "      <td id=\"T_70113_row2_col2\" class=\"data row2 col2\" >2706274</td>\n",
       "      <td id=\"T_70113_row2_col3\" class=\"data row2 col3\" >Jail warden Gene Fischi said said Selenski and Bolton broke their 12-inch-by-18-inch cell window, threw a mattress to the ground and shimmied down the rope to a second-story roof.</td>\n",
       "      <td id=\"T_70113_row2_col4\" class=\"data row2 col4\" >Warden Gene Fischi said the two inmates broke a 12-by-18-inch cell window, threw a mattress to the ground, and clambered down the makeshift rope to a second-story roof.</td>\n",
       "      <td id=\"T_70113_row2_col5\" class=\"data row2 col5\" >80</td>\n",
       "    </tr>\n",
       "    <tr>\n",
       "      <th id=\"T_70113_level0_row3\" class=\"row_heading level0 row3\" >5694</th>\n",
       "      <td id=\"T_70113_row3_col0\" class=\"data row3 col0\" >1</td>\n",
       "      <td id=\"T_70113_row3_col1\" class=\"data row3 col1\" >364462</td>\n",
       "      <td id=\"T_70113_row3_col2\" class=\"data row3 col2\" >364510</td>\n",
       "      <td id=\"T_70113_row3_col3\" class=\"data row3 col3\" >U.S. prosecutors have arrested more than 130 individuals and have seized more than $17 million in a continuing crackdown on Internet fraud and abuse.</td>\n",
       "      <td id=\"T_70113_row3_col4\" class=\"data row3 col4\" >More than 130 people have been arrested and $17 million worth of property seized in an Internet fraud sweep announced Friday by three U.S. government agencies.</td>\n",
       "      <td id=\"T_70113_row3_col5\" class=\"data row3 col5\" >49</td>\n",
       "    </tr>\n",
       "    <tr>\n",
       "      <th id=\"T_70113_level0_row4\" class=\"row_heading level0 row4\" >3105</th>\n",
       "      <td id=\"T_70113_row4_col0\" class=\"data row4 col0\" >1</td>\n",
       "      <td id=\"T_70113_row4_col1\" class=\"data row4 col1\" >327456</td>\n",
       "      <td id=\"T_70113_row4_col2\" class=\"data row4 col2\" >327366</td>\n",
       "      <td id=\"T_70113_row4_col3\" class=\"data row4 col3\" >Economists said that raised the odds of a rate cut at the Fed's next meeting on June 24-25.</td>\n",
       "      <td id=\"T_70113_row4_col4\" class=\"data row4 col4\" >Economists said those concerns raised the odds that the Fed might reduce rates at its next meeting on June 24-25.</td>\n",
       "      <td id=\"T_70113_row4_col5\" class=\"data row4 col5\" >75</td>\n",
       "    </tr>\n",
       "  </tbody>\n",
       "</table>\n",
       "   <style type=\"text/css\">\n",
       "</style>\n",
       "<table id=\"T_4180a\" style='display:inline'>\n",
       "  <caption>Fuzzy score of testing MRPC Data</caption>\n",
       "  <thead>\n",
       "    <tr>\n",
       "      <th class=\"blank level0\" >&nbsp;</th>\n",
       "      <th id=\"T_4180a_level0_col0\" class=\"col_heading level0 col0\" >Quality</th>\n",
       "      <th id=\"T_4180a_level0_col1\" class=\"col_heading level0 col1\" >#1 ID</th>\n",
       "      <th id=\"T_4180a_level0_col2\" class=\"col_heading level0 col2\" >#2 ID</th>\n",
       "      <th id=\"T_4180a_level0_col3\" class=\"col_heading level0 col3\" >#1 String</th>\n",
       "      <th id=\"T_4180a_level0_col4\" class=\"col_heading level0 col4\" >#2 String</th>\n",
       "      <th id=\"T_4180a_level0_col5\" class=\"col_heading level0 col5\" >fuzz_score</th>\n",
       "    </tr>\n",
       "  </thead>\n",
       "  <tbody>\n",
       "    <tr>\n",
       "      <th id=\"T_4180a_level0_row0\" class=\"row_heading level0 row0\" >3737</th>\n",
       "      <td id=\"T_4180a_row0_col0\" class=\"data row0 col0\" >1</td>\n",
       "      <td id=\"T_4180a_row0_col1\" class=\"data row0 col1\" >1621176</td>\n",
       "      <td id=\"T_4180a_row0_col2\" class=\"data row0 col2\" >1621114</td>\n",
       "      <td id=\"T_4180a_row0_col3\" class=\"data row0 col3\" >It is publishing the studies in the July issue of its Journal of Allergy and Clinical Immunology.</td>\n",
       "      <td id=\"T_4180a_row0_col4\" class=\"data row0 col4\" >The reports are among several published this week in the Journal of Allergy and Clinical Immunology.</td>\n",
       "      <td id=\"T_4180a_row0_col5\" class=\"data row0 col5\" >68</td>\n",
       "    </tr>\n",
       "    <tr>\n",
       "      <th id=\"T_4180a_level0_row1\" class=\"row_heading level0 row1\" >1103</th>\n",
       "      <td id=\"T_4180a_row1_col0\" class=\"data row1 col0\" >0</td>\n",
       "      <td id=\"T_4180a_row1_col1\" class=\"data row1 col1\" >516006</td>\n",
       "      <td id=\"T_4180a_row1_col2\" class=\"data row1 col2\" >515989</td>\n",
       "      <td id=\"T_4180a_row1_col3\" class=\"data row1 col3\" >Responding later, Edward Skyler, a spokesman for the mayor, said, \"The comptroller's statements, while noteworthy for their sensationalism, bear no relation to the facts.</td>\n",
       "      <td id=\"T_4180a_row1_col4\" class=\"data row1 col4\" >Jordan Barowitz, a spokesman for Republican Mayor Michael Bloomberg said: \"The Comptroller's statements, while noteworthy for their sensationalism, bear no relation to the facts.\"</td>\n",
       "      <td id=\"T_4180a_row1_col5\" class=\"data row1 col5\" >80</td>\n",
       "    </tr>\n",
       "    <tr>\n",
       "      <th id=\"T_4180a_level0_row2\" class=\"row_heading level0 row2\" >812</th>\n",
       "      <td id=\"T_4180a_row2_col0\" class=\"data row2 col0\" >0</td>\n",
       "      <td id=\"T_4180a_row2_col1\" class=\"data row2 col1\" >2128530</td>\n",
       "      <td id=\"T_4180a_row2_col2\" class=\"data row2 col2\" >2128455</td>\n",
       "      <td id=\"T_4180a_row2_col3\" class=\"data row2 col3\" >However, EPA officials would not confirm the 20 percent figure.</td>\n",
       "      <td id=\"T_4180a_row2_col4\" class=\"data row2 col4\" >Only in the past few weeks have officials settled on the 20 percent figure.</td>\n",
       "      <td id=\"T_4180a_row2_col5\" class=\"data row2 col5\" >62</td>\n",
       "    </tr>\n",
       "    <tr>\n",
       "      <th id=\"T_4180a_level0_row3\" class=\"row_heading level0 row3\" >1632</th>\n",
       "      <td id=\"T_4180a_row3_col0\" class=\"data row3 col0\" >1</td>\n",
       "      <td id=\"T_4180a_row3_col1\" class=\"data row3 col1\" >987465</td>\n",
       "      <td id=\"T_4180a_row3_col2\" class=\"data row3 col2\" >987205</td>\n",
       "      <td id=\"T_4180a_row3_col3\" class=\"data row3 col3\" >However, George Heath, a Fort Campbell spokesman, said shortly after the attack that Akbar had \"an attitude problem\".</td>\n",
       "      <td id=\"T_4180a_row3_col4\" class=\"data row3 col4\" >However, a Fort Campbell spokesman, said that Akbar had \"an attitude problem.\"</td>\n",
       "      <td id=\"T_4180a_row3_col5\" class=\"data row3 col5\" >79</td>\n",
       "    </tr>\n",
       "    <tr>\n",
       "      <th id=\"T_4180a_level0_row4\" class=\"row_heading level0 row4\" >1128</th>\n",
       "      <td id=\"T_4180a_row4_col0\" class=\"data row4 col0\" >1</td>\n",
       "      <td id=\"T_4180a_row4_col1\" class=\"data row4 col1\" >1379534</td>\n",
       "      <td id=\"T_4180a_row4_col2\" class=\"data row4 col2\" >1379472</td>\n",
       "      <td id=\"T_4180a_row4_col3\" class=\"data row4 col3\" >Five Big East schools, Connecticut, Pittsburgh, Rutgers, Virginia Tech and West Virginia, filed the lawsuit June 6.</td>\n",
       "      <td id=\"T_4180a_row4_col4\" class=\"data row4 col4\" >Pittsburgh, West Virginia, Rutgers, Connecticut and Virginia Tech filed the lawsuit this month in Hartford, Conn.</td>\n",
       "      <td id=\"T_4180a_row4_col5\" class=\"data row4 col5\" >54</td>\n",
       "    </tr>\n",
       "  </tbody>\n",
       "</table>\n",
       "   "
      ],
      "text/plain": [
       "<IPython.core.display.HTML object>"
      ]
     },
     "metadata": {},
     "output_type": "display_data"
    }
   ],
   "source": [
    "from fuzzywuzzy import fuzz \n",
    "from fuzzywuzzy import process \n",
    "\n",
    "def cal_fuzzy(df):\n",
    "    \"\"\"Calculate fuzzy score of pair sentences \n",
    "    Input:\n",
    "        df: list of pandas.DataFrame\n",
    "    Output:\n",
    "        df with fuzzywuzzy score columns\n",
    "    \"\"\"\n",
    "    df_score = df.astype(str)\n",
    "    df_score['fuzz_score'] = df.apply(lambda row: fuzz.ratio(row['#1 String'], row['#2 String']), axis=1)\n",
    "    return df_score\n",
    "   \n",
    "# Calculate fuzzy score    \n",
    "X_train_score = cal_fuzzy(X_train)\n",
    "X_test_score = cal_fuzzy(X_test)\n",
    "\n",
    "# Display some fuzzy scores of training data and testing data\n",
    "display_side_by_side([X_train_score.head(5), X_test_score.head(5)], ['Fuzzy score of training MRPC Data', 'Fuzzy score of testing MRPC Data'])"
   ]
  },
  {
   "cell_type": "markdown",
   "id": "f111bb82",
   "metadata": {},
   "source": [
    "# Estimate threshold using logistic regression, perform the testing on the testing sample and report the results in terms of accuracy score"
   ]
  },
  {
   "cell_type": "code",
   "execution_count": 3,
   "id": "f80db066",
   "metadata": {},
   "outputs": [
    {
     "name": "stdout",
     "output_type": "stream",
     "text": [
      "FuzzyWuzzy accuracy score on testing samples: 0.733 using estimate threshold = 61.099\n"
     ]
    }
   ],
   "source": [
    "from sklearn.linear_model import LogisticRegression\n",
    "from sklearn.metrics import roc_auc_score, accuracy_score\n",
    "from scipy.optimize import fsolve\n",
    "import numpy as np\n",
    "\n",
    "# Sigmoid function\n",
    "def sigmoid(s):\n",
    "    return 1/(1 + np.exp(-s))\n",
    "\n",
    "# Function to predict y\n",
    "def predict(X, threshold):\n",
    "    y_pred = X > threshold\n",
    "    \n",
    "    return y_pred.astype(int)\n",
    "\n",
    "def pd_to_np(X_train_score, y_train, X_test_score, y_test, score_type):\n",
    "    # Convert pandas data to suitable numpy\n",
    "    xtrain = X_train_score[score_type].to_numpy().reshape(-1, 1)\n",
    "    xtest = X_test_score[score_type].to_numpy().reshape(-1, 1)\n",
    "    ytrain = y_train.to_numpy()\n",
    "    ytest = y_test.to_numpy()\n",
    "    \n",
    "    return xtrain, xtest, ytrain, ytest\n",
    "# Function estimate threshold using logistic regression.\n",
    "def lr_threshold(X_train_score, y_train, X_test_score, y_test, score_type):\n",
    "    model = LogisticRegression()\n",
    "    \n",
    "    # Convert pandas data to np\n",
    "    xtrain, xtest, ytrain, ytest = pd_to_np(X_train_score, y_train, X_test_score, y_test, score_type)\n",
    "\n",
    "    #Use the training sample to estimate the threshold \n",
    "    model.fit(xtrain, ytrain)\n",
    "    \n",
    "    # Probability 0.5 is chosen as the hard threshold - calculate fuzzyy score threshold\n",
    "    #threshold = fsolve(lambda x: 0.5 - 1/(1 + np.exp(model.intercept_[0]+model.coef_[0]*x)), 2)\n",
    "    threshold = -model.intercept_.item()/model.coef_.item()\n",
    "    \n",
    "    ytest_pred = predict(xtest, threshold)\n",
    "    accuracy = accuracy_score(ytest, ytest_pred)\n",
    "    \n",
    "    return model.intercept_.item(), model.coef_.item(), ytest_pred, threshold, accuracy\n",
    "\n",
    "# Estimate threshold, y, accuracy using logistic regression\n",
    "w0_fuzz, w1_fuzz, ytest_pred_fuzz, threshold_fuzz, accuracy_fuzz = lr_threshold(X_train_score, y_train, X_test_score, y_test, 'fuzz_score')\n",
    "\n",
    "# Perform model on the testing  data using logistic regression threshold\n",
    "print('FuzzyWuzzy accuracy score on testing samples:', round(accuracy_fuzz,3),'using estimate threshold =', round(threshold_fuzz,3))\n",
    "\n",
    "#print('Accuracy score on testing samples:', accuracy)\n",
    "#print('Accuracy score on testing samples:', model.score(xtest_fuzz, ytest))"
   ]
  },
  {
   "cell_type": "markdown",
   "id": "9471b32d",
   "metadata": {},
   "source": [
    "## Plot data, sigmoid function and threshold have found"
   ]
  },
  {
   "cell_type": "code",
   "execution_count": 4,
   "id": "258bd0e5",
   "metadata": {},
   "outputs": [
    {
     "data": {
      "image/png": "[encoded data removed]",
      "text/plain": [
       "<Figure size 700x300 with 1 Axes>"
      ]
     },
     "metadata": {},
     "output_type": "display_data"
    }
   ],
   "source": [
    "import matplotlib.pyplot as plt\n",
    "from sklearn.metrics import confusion_matrix, ConfusionMatrixDisplay\n",
    "\n",
    "# Plot data, sigmoid function and threshold have found.\n",
    "def plot_sig(X_test, y_test, w0, w1, score_type):\n",
    "\n",
    "\n",
    "    X0 = X_test[score_type][y_test==0]\n",
    "    y0 = y_test[y_test==0]\n",
    "    X1 = X_test[score_type][y_test==1]\n",
    "    y1 = y_test[y_test==1]\n",
    "\n",
    "    plt.figure(figsize=(7,3))\n",
    "\n",
    "    plt.plot(X0, y0, 'ro', markersize = 2)\n",
    "    plt.plot(X1, y1, 'bs', markersize = 2)\n",
    "\n",
    "    xx = np.linspace(0, 100, 1000)\n",
    "\n",
    "    # Estimate the threshold \n",
    "    threshold = -w0/w1\n",
    "    yy = sigmoid(w0 + w1*xx)\n",
    "\n",
    "    plt.axis([30, 110, -1, 2])\n",
    "    plt.plot(xx, yy, 'g-', linewidth = 2)\n",
    "    plt.plot(threshold, .5, 'y^', markersize = 8)\n",
    "    plt.xlabel(str(score_type) + ' of testing samples')\n",
    "    plt.ylabel('Predicted probability of quality')\n",
    "    plt.show()\n",
    "\n",
    "\n",
    "plot_sig(X_test_score, y_test, w0_fuzz, w1_fuzz, 'fuzz_score')"
   ]
  },
  {
   "cell_type": "markdown",
   "id": "70eb4aeb",
   "metadata": {},
   "source": [
    "# 3. Repeat 2) when various types of preprocessing were employed (stopwords removal, stemming, removing of abbreviations…)  "
   ]
  },
  {
   "cell_type": "markdown",
   "id": "24d90a81",
   "metadata": {},
   "source": [
    "## Apply lowercase, remove punctuations and Wordnet Lemmatizer with POS tag on training, testing data"
   ]
  },
  {
   "cell_type": "code",
   "execution_count": 5,
   "id": "9d7bc7af",
   "metadata": {},
   "outputs": [
    {
     "data": {
      "text/html": [
       "<style type=\"text/css\">\n",
       "</style>\n",
       "<table id=\"T_f1091\" style='display:inline'>\n",
       "  <caption>Training Preprocessing MRPC Data</caption>\n",
       "  <thead>\n",
       "    <tr>\n",
       "      <th class=\"blank level0\" >&nbsp;</th>\n",
       "      <th id=\"T_f1091_level0_col0\" class=\"col_heading level0 col0\" >Quality</th>\n",
       "      <th id=\"T_f1091_level0_col1\" class=\"col_heading level0 col1\" >#1 ID</th>\n",
       "      <th id=\"T_f1091_level0_col2\" class=\"col_heading level0 col2\" >#2 ID</th>\n",
       "      <th id=\"T_f1091_level0_col3\" class=\"col_heading level0 col3\" >#1 String</th>\n",
       "      <th id=\"T_f1091_level0_col4\" class=\"col_heading level0 col4\" >#2 String</th>\n",
       "      <th id=\"T_f1091_level0_col5\" class=\"col_heading level0 col5\" >fuzz_score</th>\n",
       "    </tr>\n",
       "  </thead>\n",
       "  <tbody>\n",
       "    <tr>\n",
       "      <th id=\"T_f1091_level0_row0\" class=\"row_heading level0 row0\" >3265</th>\n",
       "      <td id=\"T_f1091_row0_col0\" class=\"data row0 col0\" >0</td>\n",
       "      <td id=\"T_f1091_row0_col1\" class=\"data row0 col1\" >2760410</td>\n",
       "      <td id=\"T_f1091_row0_col2\" class=\"data row0 col2\" >2760324</td>\n",
       "      <td id=\"T_f1091_row0_col3\" class=\"data row0 col3\" >exclude impact accounting change ford would earn cent share</td>\n",
       "      <td id=\"T_f1091_row0_col4\" class=\"data row0 col4\" >exclude million charge accounting change ford thirdquarter earnings amount cent share</td>\n",
       "      <td id=\"T_f1091_row0_col5\" class=\"data row0 col5\" >71</td>\n",
       "    </tr>\n",
       "    <tr>\n",
       "      <th id=\"T_f1091_level0_row1\" class=\"row_heading level0 row1\" >2859</th>\n",
       "      <td id=\"T_f1091_row1_col0\" class=\"data row1 col0\" >1</td>\n",
       "      <td id=\"T_f1091_row1_col1\" class=\"data row1 col1\" >698940</td>\n",
       "      <td id=\"T_f1091_row1_col2\" class=\"data row1 col2\" >698952</td>\n",
       "      <td id=\"T_f1091_row1_col3\" class=\"data row1 col3\" >martha stewart share fell percent nyse biggest percentage loser</td>\n",
       "      <td id=\"T_f1091_row1_col4\" class=\"data row1 col4\" >share fell percent bluechip dows biggest percent loser</td>\n",
       "      <td id=\"T_f1091_row1_col5\" class=\"data row1 col5\" >72</td>\n",
       "    </tr>\n",
       "    <tr>\n",
       "      <th id=\"T_f1091_level0_row2\" class=\"row_heading level0 row2\" >4692</th>\n",
       "      <td id=\"T_f1091_row2_col0\" class=\"data row2 col0\" >1</td>\n",
       "      <td id=\"T_f1091_row2_col1\" class=\"data row2 col1\" >2706235</td>\n",
       "      <td id=\"T_f1091_row2_col2\" class=\"data row2 col2\" >2706274</td>\n",
       "      <td id=\"T_f1091_row2_col3\" class=\"data row2 col3\" >jail warden gene fischi say say selenski bolton break inchbyinch cell window throw mattress ground shimmy rope secondstory roof</td>\n",
       "      <td id=\"T_f1091_row2_col4\" class=\"data row2 col4\" >warden gene fischi say two inmate break byinch cell window throw mattress ground clamber makeshift rope secondstory roof</td>\n",
       "      <td id=\"T_f1091_row2_col5\" class=\"data row2 col5\" >80</td>\n",
       "    </tr>\n",
       "    <tr>\n",
       "      <th id=\"T_f1091_level0_row3\" class=\"row_heading level0 row3\" >5694</th>\n",
       "      <td id=\"T_f1091_row3_col0\" class=\"data row3 col0\" >1</td>\n",
       "      <td id=\"T_f1091_row3_col1\" class=\"data row3 col1\" >364462</td>\n",
       "      <td id=\"T_f1091_row3_col2\" class=\"data row3 col2\" >364510</td>\n",
       "      <td id=\"T_f1091_row3_col3\" class=\"data row3 col3\" >us prosecutor arrest individual seize million continue crackdown internet fraud abuse</td>\n",
       "      <td id=\"T_f1091_row3_col4\" class=\"data row3 col4\" >people arrest million worth property seize internet fraud sweep announce friday three us government agency</td>\n",
       "      <td id=\"T_f1091_row3_col5\" class=\"data row3 col5\" >46</td>\n",
       "    </tr>\n",
       "    <tr>\n",
       "      <th id=\"T_f1091_level0_row4\" class=\"row_heading level0 row4\" >3105</th>\n",
       "      <td id=\"T_f1091_row4_col0\" class=\"data row4 col0\" >1</td>\n",
       "      <td id=\"T_f1091_row4_col1\" class=\"data row4 col1\" >327456</td>\n",
       "      <td id=\"T_f1091_row4_col2\" class=\"data row4 col2\" >327366</td>\n",
       "      <td id=\"T_f1091_row4_col3\" class=\"data row4 col3\" >economist say raise odds rate cut fed next meeting june</td>\n",
       "      <td id=\"T_f1091_row4_col4\" class=\"data row4 col4\" >economist say concern raise odds fed might reduce rate next meeting june</td>\n",
       "      <td id=\"T_f1091_row4_col5\" class=\"data row4 col5\" >77</td>\n",
       "    </tr>\n",
       "  </tbody>\n",
       "</table>\n",
       "   <style type=\"text/css\">\n",
       "</style>\n",
       "<table id=\"T_de90e\" style='display:inline'>\n",
       "  <caption>Testing Preprocessing MRPC Data</caption>\n",
       "  <thead>\n",
       "    <tr>\n",
       "      <th class=\"blank level0\" >&nbsp;</th>\n",
       "      <th id=\"T_de90e_level0_col0\" class=\"col_heading level0 col0\" >Quality</th>\n",
       "      <th id=\"T_de90e_level0_col1\" class=\"col_heading level0 col1\" >#1 ID</th>\n",
       "      <th id=\"T_de90e_level0_col2\" class=\"col_heading level0 col2\" >#2 ID</th>\n",
       "      <th id=\"T_de90e_level0_col3\" class=\"col_heading level0 col3\" >#1 String</th>\n",
       "      <th id=\"T_de90e_level0_col4\" class=\"col_heading level0 col4\" >#2 String</th>\n",
       "      <th id=\"T_de90e_level0_col5\" class=\"col_heading level0 col5\" >fuzz_score</th>\n",
       "    </tr>\n",
       "  </thead>\n",
       "  <tbody>\n",
       "    <tr>\n",
       "      <th id=\"T_de90e_level0_row0\" class=\"row_heading level0 row0\" >3737</th>\n",
       "      <td id=\"T_de90e_row0_col0\" class=\"data row0 col0\" >1</td>\n",
       "      <td id=\"T_de90e_row0_col1\" class=\"data row0 col1\" >1621176</td>\n",
       "      <td id=\"T_de90e_row0_col2\" class=\"data row0 col2\" >1621114</td>\n",
       "      <td id=\"T_de90e_row0_col3\" class=\"data row0 col3\" >publish study july issue journal allergy clinical immunology</td>\n",
       "      <td id=\"T_de90e_row0_col4\" class=\"data row0 col4\" >report among several publish week journal allergy clinical immunology</td>\n",
       "      <td id=\"T_de90e_row0_col5\" class=\"data row0 col5\" >70</td>\n",
       "    </tr>\n",
       "    <tr>\n",
       "      <th id=\"T_de90e_level0_row1\" class=\"row_heading level0 row1\" >1103</th>\n",
       "      <td id=\"T_de90e_row1_col0\" class=\"data row1 col0\" >0</td>\n",
       "      <td id=\"T_de90e_row1_col1\" class=\"data row1 col1\" >516006</td>\n",
       "      <td id=\"T_de90e_row1_col2\" class=\"data row1 col2\" >515989</td>\n",
       "      <td id=\"T_de90e_row1_col3\" class=\"data row1 col3\" >respond later edward skyler spokesman mayor say comptroller statement noteworthy sensationalism bear relation fact</td>\n",
       "      <td id=\"T_de90e_row1_col4\" class=\"data row1 col4\" >jordan barowitz spokesman republican mayor michael bloomberg say comptroller statement noteworthy sensationalism bear relation fact</td>\n",
       "      <td id=\"T_de90e_row1_col5\" class=\"data row1 col5\" >76</td>\n",
       "    </tr>\n",
       "    <tr>\n",
       "      <th id=\"T_de90e_level0_row2\" class=\"row_heading level0 row2\" >812</th>\n",
       "      <td id=\"T_de90e_row2_col0\" class=\"data row2 col0\" >0</td>\n",
       "      <td id=\"T_de90e_row2_col1\" class=\"data row2 col1\" >2128530</td>\n",
       "      <td id=\"T_de90e_row2_col2\" class=\"data row2 col2\" >2128455</td>\n",
       "      <td id=\"T_de90e_row2_col3\" class=\"data row2 col3\" >however epa official would confirm percent figure</td>\n",
       "      <td id=\"T_de90e_row2_col4\" class=\"data row2 col4\" >past week official settle percent figure</td>\n",
       "      <td id=\"T_de90e_row2_col5\" class=\"data row2 col5\" >65</td>\n",
       "    </tr>\n",
       "    <tr>\n",
       "      <th id=\"T_de90e_level0_row3\" class=\"row_heading level0 row3\" >1632</th>\n",
       "      <td id=\"T_de90e_row3_col0\" class=\"data row3 col0\" >1</td>\n",
       "      <td id=\"T_de90e_row3_col1\" class=\"data row3 col1\" >987465</td>\n",
       "      <td id=\"T_de90e_row3_col2\" class=\"data row3 col2\" >987205</td>\n",
       "      <td id=\"T_de90e_row3_col3\" class=\"data row3 col3\" >however george heath fort campbell spokesman say shortly attack akbar attitude problem</td>\n",
       "      <td id=\"T_de90e_row3_col4\" class=\"data row3 col4\" >however fort campbell spokesman say akbar attitude problem</td>\n",
       "      <td id=\"T_de90e_row3_col5\" class=\"data row3 col5\" >81</td>\n",
       "    </tr>\n",
       "    <tr>\n",
       "      <th id=\"T_de90e_level0_row4\" class=\"row_heading level0 row4\" >1128</th>\n",
       "      <td id=\"T_de90e_row4_col0\" class=\"data row4 col0\" >1</td>\n",
       "      <td id=\"T_de90e_row4_col1\" class=\"data row4 col1\" >1379534</td>\n",
       "      <td id=\"T_de90e_row4_col2\" class=\"data row4 col2\" >1379472</td>\n",
       "      <td id=\"T_de90e_row4_col3\" class=\"data row4 col3\" >five big east school connecticut pittsburgh rutgers virginia tech west virginia file lawsuit june</td>\n",
       "      <td id=\"T_de90e_row4_col4\" class=\"data row4 col4\" >pittsburgh west virginia rutgers connecticut virginia tech file lawsuit month hartford conn</td>\n",
       "      <td id=\"T_de90e_row4_col5\" class=\"data row4 col5\" >55</td>\n",
       "    </tr>\n",
       "  </tbody>\n",
       "</table>\n",
       "   "
      ],
      "text/plain": [
       "<IPython.core.display.HTML object>"
      ]
     },
     "metadata": {},
     "output_type": "display_data"
    }
   ],
   "source": [
    "\"\"\"Sourcode for this task https://nlpforhackers.io/wordnet-sentence-similarity/ \"\"\"\n",
    "import nltk\n",
    "import re\n",
    "from nltk.corpus import stopwords\n",
    "from nltk.stem import WordNetLemmatizer\n",
    "from nltk import pos_tag, word_tokenize\n",
    "\n",
    "def pre_process(text):\n",
    "    clean_data = []\n",
    "    for x in (text): \n",
    "        new_text = re.sub('<.*?>', '', x)   # remove HTML tags\n",
    "        new_text = re.sub(r'[^\\w\\s]', '', new_text) # remove punc.\n",
    "        new_text = re.sub(r'\\d+','',new_text)# remove numbers\n",
    "        new_text = new_text.lower() # lower case        \n",
    "        if new_text != '':\n",
    "            clean_data.append(new_text)\n",
    "    return ''.join(clean_data)\n",
    "\n",
    "def remove_st(text):\n",
    "    stop = stopwords.words('english')\n",
    "    remove_text = [word for word in text.split() if word not in (stop)]\n",
    "    return ' '.join(remove_text)\n",
    "\n",
    "def lemmatize_pos_text(text):\n",
    "    lemma_data = []\n",
    "    lemmatizer = WordNetLemmatizer()\n",
    "    lemmatize_tokens = [lemmatizer.lemmatize(w) for w in word_tokenize(text)]\n",
    "    for word, tag in pos_tag(word_tokenize(text)):\n",
    "        wntag = tag[0].lower()\n",
    "        wntag = wntag if wntag in ['a', 'r', 'n', 'v'] else None\n",
    "        if not wntag:\n",
    "            lemma = word\n",
    "        else:\n",
    "            lemma = lemmatizer.lemmatize(word, wntag)\n",
    "        lemma_data.append(lemma)\n",
    "    return ' '.join(lemma_data)\n",
    "\n",
    "def apply_on_data(X_train, X_test):\n",
    "    X_train_prep = X_train.copy()\n",
    "    X_test_prep = X_test.copy()\n",
    "    \n",
    "    # Training data\n",
    "    X_train_prep['#1 String'] = X_train_prep['#1 String'].apply(pre_process)\n",
    "    X_train_prep['#2 String'] = X_train_prep['#2 String'].apply(pre_process)\n",
    "    \n",
    "    X_train_prep['#1 String'] = X_train_prep['#1 String'].apply(lemmatize_pos_text)\n",
    "    X_train_prep['#2 String'] = X_train_prep['#2 String'].apply(lemmatize_pos_text)\n",
    "    \n",
    "    X_train_prep['#1 String'] = X_train_prep['#1 String'].apply(remove_st)\n",
    "    X_train_prep['#2 String'] = X_train_prep['#2 String'].apply(remove_st)\n",
    "    \n",
    "    # Testing data\n",
    "    X_test_prep['#1 String'] = X_test_prep['#1 String'].apply(pre_process)\n",
    "    X_test_prep['#2 String'] = X_test_prep['#2 String'].apply(pre_process)\n",
    "    \n",
    "    X_test_prep['#1 String'] = X_test_prep['#1 String'].apply(lemmatize_pos_text)\n",
    "    X_test_prep['#2 String'] = X_test_prep['#2 String'].apply(lemmatize_pos_text)\n",
    "    \n",
    "    X_test_prep['#1 String'] = X_test_prep['#1 String'].apply(remove_st)\n",
    "    X_test_prep['#2 String'] = X_test_prep['#2 String'].apply(remove_st)\n",
    "    \n",
    "    return X_train_prep, X_test_prep\n",
    "\n",
    "X_train_prep, X_test_prep = apply_on_data(X_train, X_test)\n",
    "\n",
    "# Calculate fuzzy score    \n",
    "X_train_prep = cal_fuzzy(X_train_prep)\n",
    "X_test_prep = cal_fuzzy(X_test_prep)\n",
    "\n",
    "# Display some rows of training data and testing data\n",
    "display_side_by_side([X_train_prep.head(5), X_test_prep.head(5)], ['Training Preprocessing MRPC Data', 'Testing Preprocessing MRPC Data'])"
   ]
  },
  {
   "cell_type": "markdown",
   "id": "0bce4d74",
   "metadata": {},
   "source": [
    "## Estimate threshold using logistic regression"
   ]
  },
  {
   "cell_type": "code",
   "execution_count": 6,
   "id": "beef6d10",
   "metadata": {},
   "outputs": [
    {
     "name": "stdout",
     "output_type": "stream",
     "text": [
      "FuzzyWuzzy accuracy score on preprocessing testing samples: 0.705 using estimate threshold = 59.654\n"
     ]
    }
   ],
   "source": [
    "# Estimate threshold, y, accuracy using logistic regression\n",
    "w0_fuzz2, w1_fuzz2, ytest_pred_fuzz2, threshold_fuzz2, accuracy_fuzz2 = lr_threshold(X_train_prep, y_train, X_test_prep, y_test, 'fuzz_score')\n",
    "\n",
    "# Perform model on the testing  data using logistic regression threshold\n",
    "print('FuzzyWuzzy accuracy score on preprocessing testing samples:', round(accuracy_fuzz2,3),'using estimate threshold =', round(threshold_fuzz2,3))"
   ]
  },
  {
   "cell_type": "markdown",
   "id": "4f5cf8b2",
   "metadata": {},
   "source": [
    "## Confusion matrix of testing original data and testing preprocessing data using FuzzyWuzzy"
   ]
  },
  {
   "cell_type": "code",
   "execution_count": 7,
   "id": "e0f231b9",
   "metadata": {},
   "outputs": [
    {
     "name": "stdout",
     "output_type": "stream",
     "text": [
      "\u001b[1m  Confusion matrix of testing original data using FuzzyWuzzy\u001b[0m\n"
     ]
    },
    {
     "data": {
      "image/png": "[encoded data removed]",
      "text/plain": [
       "<Figure size 640x480 with 2 Axes>"
      ]
     },
     "metadata": {},
     "output_type": "display_data"
    },
    {
     "name": "stdout",
     "output_type": "stream",
     "text": [
      "\u001b[1m  Confusion matrix of testing preprocessing data using FuzzyWuzzy\u001b[0m\n"
     ]
    },
    {
     "data": {
      "image/png": "[encoded data removed]",
      "text/plain": [
       "<Figure size 640x480 with 2 Axes>"
      ]
     },
     "metadata": {},
     "output_type": "display_data"
    }
   ],
   "source": [
    "cm = confusion_matrix(y_test.to_numpy(), ytest_pred_fuzz)\n",
    "cmd = ConfusionMatrixDisplay(cm, display_labels=['1','0'])\n",
    "print('\\033[1m' + '  Confusion matrix of testing original data using FuzzyWuzzy' + '\\033[0m')\n",
    "cmd.plot()\n",
    "plt.show()\n",
    "\n",
    "cm = confusion_matrix(y_test.to_numpy(), ytest_pred_fuzz2)\n",
    "cmd = ConfusionMatrixDisplay(cm, display_labels=['1','0'])\n",
    "print('\\033[1m' + '  Confusion matrix of testing preprocessing data using FuzzyWuzzy' + '\\033[0m')\n",
    "cmd.plot()\n",
    "plt.show()"
   ]
  },
  {
   "cell_type": "markdown",
   "id": "c5dfca34",
   "metadata": {},
   "source": [
    "# 4)\tCalculate the sentence-to-sentence similarity measure using the Wu and Palma semantic similarity on data before preprocessing "
   ]
  },
  {
   "cell_type": "code",
   "execution_count": 8,
   "id": "c742e8bc",
   "metadata": {},
   "outputs": [
    {
     "data": {
      "text/html": [
       "<style type=\"text/css\">\n",
       "</style>\n",
       "<table id=\"T_99709\" style='display:inline'>\n",
       "  <caption>Wu & Palma score of training MRPC Data</caption>\n",
       "  <thead>\n",
       "    <tr>\n",
       "      <th class=\"blank level0\" >&nbsp;</th>\n",
       "      <th id=\"T_99709_level0_col0\" class=\"col_heading level0 col0\" >Quality</th>\n",
       "      <th id=\"T_99709_level0_col1\" class=\"col_heading level0 col1\" >#1 ID</th>\n",
       "      <th id=\"T_99709_level0_col2\" class=\"col_heading level0 col2\" >#2 ID</th>\n",
       "      <th id=\"T_99709_level0_col3\" class=\"col_heading level0 col3\" >#1 String</th>\n",
       "      <th id=\"T_99709_level0_col4\" class=\"col_heading level0 col4\" >#2 String</th>\n",
       "      <th id=\"T_99709_level0_col5\" class=\"col_heading level0 col5\" >fuzz_score</th>\n",
       "      <th id=\"T_99709_level0_col6\" class=\"col_heading level0 col6\" >wup_score</th>\n",
       "    </tr>\n",
       "  </thead>\n",
       "  <tbody>\n",
       "    <tr>\n",
       "      <th id=\"T_99709_level0_row0\" class=\"row_heading level0 row0\" >3265</th>\n",
       "      <td id=\"T_99709_row0_col0\" class=\"data row0 col0\" >0</td>\n",
       "      <td id=\"T_99709_row0_col1\" class=\"data row0 col1\" >2760410</td>\n",
       "      <td id=\"T_99709_row0_col2\" class=\"data row0 col2\" >2760324</td>\n",
       "      <td id=\"T_99709_row0_col3\" class=\"data row0 col3\" >Excluding the impact of accounting changes, Ford would have earned 13 cents a share.</td>\n",
       "      <td id=\"T_99709_row0_col4\" class=\"data row0 col4\" >Excluding the $56 million charge and the accounting change, Ford's third-quarter earnings amounted to 15 cents a share.</td>\n",
       "      <td id=\"T_99709_row0_col5\" class=\"data row0 col5\" >68</td>\n",
       "      <td id=\"T_99709_row0_col6\" class=\"data row0 col6\" >0.671726</td>\n",
       "    </tr>\n",
       "    <tr>\n",
       "      <th id=\"T_99709_level0_row1\" class=\"row_heading level0 row1\" >2859</th>\n",
       "      <td id=\"T_99709_row1_col0\" class=\"data row1 col0\" >1</td>\n",
       "      <td id=\"T_99709_row1_col1\" class=\"data row1 col1\" >698940</td>\n",
       "      <td id=\"T_99709_row1_col2\" class=\"data row1 col2\" >698952</td>\n",
       "      <td id=\"T_99709_row1_col3\" class=\"data row1 col3\" >Martha Stewart shares fell $2.03, about 18 percent, to $9.17 and were the NYSE's biggest percentage loser.</td>\n",
       "      <td id=\"T_99709_row1_col4\" class=\"data row1 col4\" >Its shares fell 4.6 percent, or $4.04, to $83.38 and was the blue-chip Dow's biggest percent loser.</td>\n",
       "      <td id=\"T_99709_row1_col5\" class=\"data row1 col5\" >64</td>\n",
       "      <td id=\"T_99709_row1_col6\" class=\"data row1 col6\" >0.751022</td>\n",
       "    </tr>\n",
       "    <tr>\n",
       "      <th id=\"T_99709_level0_row2\" class=\"row_heading level0 row2\" >4692</th>\n",
       "      <td id=\"T_99709_row2_col0\" class=\"data row2 col0\" >1</td>\n",
       "      <td id=\"T_99709_row2_col1\" class=\"data row2 col1\" >2706235</td>\n",
       "      <td id=\"T_99709_row2_col2\" class=\"data row2 col2\" >2706274</td>\n",
       "      <td id=\"T_99709_row2_col3\" class=\"data row2 col3\" >Jail warden Gene Fischi said said Selenski and Bolton broke their 12-inch-by-18-inch cell window, threw a mattress to the ground and shimmied down the rope to a second-story roof.</td>\n",
       "      <td id=\"T_99709_row2_col4\" class=\"data row2 col4\" >Warden Gene Fischi said the two inmates broke a 12-by-18-inch cell window, threw a mattress to the ground, and clambered down the makeshift rope to a second-story roof.</td>\n",
       "      <td id=\"T_99709_row2_col5\" class=\"data row2 col5\" >80</td>\n",
       "      <td id=\"T_99709_row2_col6\" class=\"data row2 col6\" >0.774693</td>\n",
       "    </tr>\n",
       "    <tr>\n",
       "      <th id=\"T_99709_level0_row3\" class=\"row_heading level0 row3\" >5694</th>\n",
       "      <td id=\"T_99709_row3_col0\" class=\"data row3 col0\" >1</td>\n",
       "      <td id=\"T_99709_row3_col1\" class=\"data row3 col1\" >364462</td>\n",
       "      <td id=\"T_99709_row3_col2\" class=\"data row3 col2\" >364510</td>\n",
       "      <td id=\"T_99709_row3_col3\" class=\"data row3 col3\" >U.S. prosecutors have arrested more than 130 individuals and have seized more than $17 million in a continuing crackdown on Internet fraud and abuse.</td>\n",
       "      <td id=\"T_99709_row3_col4\" class=\"data row3 col4\" >More than 130 people have been arrested and $17 million worth of property seized in an Internet fraud sweep announced Friday by three U.S. government agencies.</td>\n",
       "      <td id=\"T_99709_row3_col5\" class=\"data row3 col5\" >49</td>\n",
       "      <td id=\"T_99709_row3_col6\" class=\"data row3 col6\" >0.576614</td>\n",
       "    </tr>\n",
       "    <tr>\n",
       "      <th id=\"T_99709_level0_row4\" class=\"row_heading level0 row4\" >3105</th>\n",
       "      <td id=\"T_99709_row4_col0\" class=\"data row4 col0\" >1</td>\n",
       "      <td id=\"T_99709_row4_col1\" class=\"data row4 col1\" >327456</td>\n",
       "      <td id=\"T_99709_row4_col2\" class=\"data row4 col2\" >327366</td>\n",
       "      <td id=\"T_99709_row4_col3\" class=\"data row4 col3\" >Economists said that raised the odds of a rate cut at the Fed's next meeting on June 24-25.</td>\n",
       "      <td id=\"T_99709_row4_col4\" class=\"data row4 col4\" >Economists said those concerns raised the odds that the Fed might reduce rates at its next meeting on June 24-25.</td>\n",
       "      <td id=\"T_99709_row4_col5\" class=\"data row4 col5\" >75</td>\n",
       "      <td id=\"T_99709_row4_col6\" class=\"data row4 col6\" >0.724949</td>\n",
       "    </tr>\n",
       "  </tbody>\n",
       "</table>\n",
       "   <style type=\"text/css\">\n",
       "</style>\n",
       "<table id=\"T_c3232\" style='display:inline'>\n",
       "  <caption>Wu & Palma score of testing MRPC Data</caption>\n",
       "  <thead>\n",
       "    <tr>\n",
       "      <th class=\"blank level0\" >&nbsp;</th>\n",
       "      <th id=\"T_c3232_level0_col0\" class=\"col_heading level0 col0\" >Quality</th>\n",
       "      <th id=\"T_c3232_level0_col1\" class=\"col_heading level0 col1\" >#1 ID</th>\n",
       "      <th id=\"T_c3232_level0_col2\" class=\"col_heading level0 col2\" >#2 ID</th>\n",
       "      <th id=\"T_c3232_level0_col3\" class=\"col_heading level0 col3\" >#1 String</th>\n",
       "      <th id=\"T_c3232_level0_col4\" class=\"col_heading level0 col4\" >#2 String</th>\n",
       "      <th id=\"T_c3232_level0_col5\" class=\"col_heading level0 col5\" >fuzz_score</th>\n",
       "      <th id=\"T_c3232_level0_col6\" class=\"col_heading level0 col6\" >wup_score</th>\n",
       "    </tr>\n",
       "  </thead>\n",
       "  <tbody>\n",
       "    <tr>\n",
       "      <th id=\"T_c3232_level0_row0\" class=\"row_heading level0 row0\" >3737</th>\n",
       "      <td id=\"T_c3232_row0_col0\" class=\"data row0 col0\" >1</td>\n",
       "      <td id=\"T_c3232_row0_col1\" class=\"data row0 col1\" >1621176</td>\n",
       "      <td id=\"T_c3232_row0_col2\" class=\"data row0 col2\" >1621114</td>\n",
       "      <td id=\"T_c3232_row0_col3\" class=\"data row0 col3\" >It is publishing the studies in the July issue of its Journal of Allergy and Clinical Immunology.</td>\n",
       "      <td id=\"T_c3232_row0_col4\" class=\"data row0 col4\" >The reports are among several published this week in the Journal of Allergy and Clinical Immunology.</td>\n",
       "      <td id=\"T_c3232_row0_col5\" class=\"data row0 col5\" >68</td>\n",
       "      <td id=\"T_c3232_row0_col6\" class=\"data row0 col6\" >0.621759</td>\n",
       "    </tr>\n",
       "    <tr>\n",
       "      <th id=\"T_c3232_level0_row1\" class=\"row_heading level0 row1\" >1103</th>\n",
       "      <td id=\"T_c3232_row1_col0\" class=\"data row1 col0\" >0</td>\n",
       "      <td id=\"T_c3232_row1_col1\" class=\"data row1 col1\" >516006</td>\n",
       "      <td id=\"T_c3232_row1_col2\" class=\"data row1 col2\" >515989</td>\n",
       "      <td id=\"T_c3232_row1_col3\" class=\"data row1 col3\" >Responding later, Edward Skyler, a spokesman for the mayor, said, \"The comptroller's statements, while noteworthy for their sensationalism, bear no relation to the facts.</td>\n",
       "      <td id=\"T_c3232_row1_col4\" class=\"data row1 col4\" >Jordan Barowitz, a spokesman for Republican Mayor Michael Bloomberg said: \"The Comptroller's statements, while noteworthy for their sensationalism, bear no relation to the facts.\"</td>\n",
       "      <td id=\"T_c3232_row1_col5\" class=\"data row1 col5\" >80</td>\n",
       "      <td id=\"T_c3232_row1_col6\" class=\"data row1 col6\" >0.754167</td>\n",
       "    </tr>\n",
       "    <tr>\n",
       "      <th id=\"T_c3232_level0_row2\" class=\"row_heading level0 row2\" >812</th>\n",
       "      <td id=\"T_c3232_row2_col0\" class=\"data row2 col0\" >0</td>\n",
       "      <td id=\"T_c3232_row2_col1\" class=\"data row2 col1\" >2128530</td>\n",
       "      <td id=\"T_c3232_row2_col2\" class=\"data row2 col2\" >2128455</td>\n",
       "      <td id=\"T_c3232_row2_col3\" class=\"data row2 col3\" >However, EPA officials would not confirm the 20 percent figure.</td>\n",
       "      <td id=\"T_c3232_row2_col4\" class=\"data row2 col4\" >Only in the past few weeks have officials settled on the 20 percent figure.</td>\n",
       "      <td id=\"T_c3232_row2_col5\" class=\"data row2 col5\" >62</td>\n",
       "      <td id=\"T_c3232_row2_col6\" class=\"data row2 col6\" >0.488125</td>\n",
       "    </tr>\n",
       "    <tr>\n",
       "      <th id=\"T_c3232_level0_row3\" class=\"row_heading level0 row3\" >1632</th>\n",
       "      <td id=\"T_c3232_row3_col0\" class=\"data row3 col0\" >1</td>\n",
       "      <td id=\"T_c3232_row3_col1\" class=\"data row3 col1\" >987465</td>\n",
       "      <td id=\"T_c3232_row3_col2\" class=\"data row3 col2\" >987205</td>\n",
       "      <td id=\"T_c3232_row3_col3\" class=\"data row3 col3\" >However, George Heath, a Fort Campbell spokesman, said shortly after the attack that Akbar had \"an attitude problem\".</td>\n",
       "      <td id=\"T_c3232_row3_col4\" class=\"data row3 col4\" >However, a Fort Campbell spokesman, said that Akbar had \"an attitude problem.\"</td>\n",
       "      <td id=\"T_c3232_row3_col5\" class=\"data row3 col5\" >79</td>\n",
       "      <td id=\"T_c3232_row3_col6\" class=\"data row3 col6\" >0.778419</td>\n",
       "    </tr>\n",
       "    <tr>\n",
       "      <th id=\"T_c3232_level0_row4\" class=\"row_heading level0 row4\" >1128</th>\n",
       "      <td id=\"T_c3232_row4_col0\" class=\"data row4 col0\" >1</td>\n",
       "      <td id=\"T_c3232_row4_col1\" class=\"data row4 col1\" >1379534</td>\n",
       "      <td id=\"T_c3232_row4_col2\" class=\"data row4 col2\" >1379472</td>\n",
       "      <td id=\"T_c3232_row4_col3\" class=\"data row4 col3\" >Five Big East schools, Connecticut, Pittsburgh, Rutgers, Virginia Tech and West Virginia, filed the lawsuit June 6.</td>\n",
       "      <td id=\"T_c3232_row4_col4\" class=\"data row4 col4\" >Pittsburgh, West Virginia, Rutgers, Connecticut and Virginia Tech filed the lawsuit this month in Hartford, Conn.</td>\n",
       "      <td id=\"T_c3232_row4_col5\" class=\"data row4 col5\" >54</td>\n",
       "      <td id=\"T_c3232_row4_col6\" class=\"data row4 col6\" >0.761995</td>\n",
       "    </tr>\n",
       "  </tbody>\n",
       "</table>\n",
       "   "
      ],
      "text/plain": [
       "<IPython.core.display.HTML object>"
      ]
     },
     "metadata": {},
     "output_type": "display_data"
    }
   ],
   "source": [
    "# Source code for task 4: https://nlpforhackers.io/wordnet-sentence-similarity/ \n",
    "from nltk import word_tokenize, pos_tag\n",
    "from nltk.corpus import wordnet as wn\n",
    " \n",
    "def penn_to_wn(tag):\n",
    "    \"\"\" Convert between a Penn Treebank tag to a simplified Wordnet tag \"\"\"\n",
    "    if tag.startswith('N'):\n",
    "        return 'n'\n",
    " \n",
    "    if tag.startswith('V'):\n",
    "        return 'v'\n",
    " \n",
    "    if tag.startswith('J'):\n",
    "        return 'a'\n",
    " \n",
    "    if tag.startswith('R'):\n",
    "        return 'r'\n",
    " \n",
    "    return None\n",
    " \n",
    "def tagged_to_synset(word, tag):\n",
    "    wn_tag = penn_to_wn(tag)\n",
    "    if wn_tag is None:\n",
    "        return None\n",
    " \n",
    "    try:\n",
    "        return wn.synsets(word, wn_tag)[0]\n",
    "    except:\n",
    "        return None\n",
    "    \n",
    "def sentence_similarity(sentence1, sentence2):\n",
    "    \"\"\" compute the sentence similarity using Wordnet \"\"\"\n",
    "    # Tokenize and tag\n",
    "    sentence1 = pos_tag(word_tokenize(sentence1))\n",
    "    sentence2 = pos_tag(word_tokenize(sentence2))\n",
    " \n",
    "    # Get the synsets for the tagged words\n",
    "    synsets1 = [tagged_to_synset(*tagged_word) for tagged_word in sentence1]\n",
    "    synsets2 = [tagged_to_synset(*tagged_word) for tagged_word in sentence2]\n",
    " \n",
    "    # Filter out the Nones\n",
    "    synsets1 = [ss for ss in synsets1 if ss]\n",
    "    synsets2 = [ss for ss in synsets2 if ss]\n",
    " \n",
    "    score, count = 0.0, 1\n",
    " \n",
    "    # For each word in the first sentence\n",
    "    for synset in synsets1:\n",
    "        # Get the similarity value of the most similar word in the other sentence\n",
    "        best_score = max([synset.path_similarity(ss) for ss in synsets2])\n",
    " \n",
    "        # Check that the similarity could have been computed\n",
    "        if best_score is not None:\n",
    "            score += best_score\n",
    "            count += 1\n",
    " \n",
    "    # Average the values\n",
    "    score /= count\n",
    "    return score\n",
    " \n",
    "def symmetric_sentence_similarity(sentence1, sentence2):\n",
    "    \"\"\" compute the symmetric sentence similarity using Wordnet \"\"\"\n",
    "    return (sentence_similarity(sentence1, sentence2) + sentence_similarity(sentence2, sentence1)) / 2 \n",
    "\n",
    "X_train_score['wup_score'] = X_train_score.apply(lambda row: symmetric_sentence_similarity(row['#1 String'], row['#2 String']), axis=1)\n",
    "X_test_score['wup_score'] = X_test_score.apply(lambda row: symmetric_sentence_similarity(row['#1 String'], row['#2 String']), axis=1)\n",
    "\n",
    "# Display some rows of training data and testing data\n",
    "display_side_by_side([X_train_score.head(5), X_test_score.head(5)], ['Wu & Palma score of training MRPC Data', 'Wu & Palma score of testing MRPC Data'])"
   ]
  },
  {
   "cell_type": "markdown",
   "id": "36232b3d",
   "metadata": {},
   "source": [
    "## Use logistic regression for estimate threshold and calculate accuracy score"
   ]
  },
  {
   "cell_type": "code",
   "execution_count": 9,
   "id": "9ce1ee81",
   "metadata": {},
   "outputs": [
    {
     "name": "stdout",
     "output_type": "stream",
     "text": [
      "Wu & Palma accuracy score on testing samples: 0.752 using estimate threshold = 0.544\n"
     ]
    }
   ],
   "source": [
    "# Estimate threshold, y, accuracy using logistic regression\n",
    "_, _, ytest_pred_wup, threshold_wup, accuracy_wup = lr_threshold(X_train_score, y_train, X_test_score, y_test, 'wup_score')\n",
    "\n",
    "# Perform model on the testing  data using logistic regression threshold\n",
    "print('Wu & Palma accuracy score on testing samples:', round(accuracy_wup,3),'using estimate threshold =', round(threshold_wup,3))"
   ]
  },
  {
   "cell_type": "markdown",
   "id": "6d3d5258",
   "metadata": {},
   "source": [
    "## Confusion matrix of testing original data using FuzzyWuzzy and Wu - Palma¶"
   ]
  },
  {
   "cell_type": "code",
   "execution_count": 10,
   "id": "05e8aded",
   "metadata": {},
   "outputs": [
    {
     "name": "stdout",
     "output_type": "stream",
     "text": [
      "\u001b[1m  Confusion matrix of testing original data using FuzzyWuzzy\u001b[0m\n"
     ]
    },
    {
     "data": {
      "image/png": "[encoded data removed]",
      "text/plain": [
       "<Figure size 640x480 with 2 Axes>"
      ]
     },
     "metadata": {},
     "output_type": "display_data"
    },
    {
     "name": "stdout",
     "output_type": "stream",
     "text": [
      "\u001b[1m  Confusion matrix of testing original data using Wu & Palma\u001b[0m\n"
     ]
    },
    {
     "data": {
      "image/png": "[encoded data removed]",
      "text/plain": [
       "<Figure size 640x480 with 2 Axes>"
      ]
     },
     "metadata": {},
     "output_type": "display_data"
    }
   ],
   "source": [
    "cm = confusion_matrix(y_test.to_numpy(), ytest_pred_fuzz)\n",
    "cmd = ConfusionMatrixDisplay(cm, display_labels=['1','0'])\n",
    "print('\\033[1m' + '  Confusion matrix of testing original data using FuzzyWuzzy' + '\\033[0m')\n",
    "cmd.plot()\n",
    "plt.show()\n",
    "\n",
    "cm = confusion_matrix(y_test.to_numpy(), ytest_pred_wup)\n",
    "cmd = ConfusionMatrixDisplay(cm, display_labels=['1','0'])\n",
    "print('\\033[1m' + '  Confusion matrix of testing original data using Wu & Palma' + '\\033[0m')\n",
    "cmd.plot()\n",
    "plt.show()"
   ]
  },
  {
   "cell_type": "markdown",
   "id": "5e5a4aa9",
   "metadata": {},
   "source": [
    "# 5) Use pretrained FastText embedding word vectors to generate the embedding vector of each sentence, and then use cosine similarity to estimate the similarity between the two sentences. "
   ]
  },
  {
   "cell_type": "code",
   "execution_count": 11,
   "id": "75a1b2e6",
   "metadata": {},
   "outputs": [
    {
     "name": "stderr",
     "output_type": "stream",
     "text": [
      "Warning : `load_model` does not return WordVectorModel or SupervisedModel any more, but a `FastText` object which is very similar.\n"
     ]
    }
   ],
   "source": [
    "import fasttext \n",
    "import fasttext.util\n",
    "from scipy.spatial.distance import cosine\n",
    "#from sklearn.metrics.pairwise import cosine_similarity\n",
    "\n",
    "def cosine_similarity(embedding_1, embedding_2):\n",
    "    #Calculate the cosine similarity of the two embeddings.\n",
    "    sim = 1 - cosine(embedding_1, embedding_2)\n",
    "    return sim\n",
    "\n",
    "#fasttext.util.download_model('en', if_exists='ignore')\n",
    "\n",
    "ft = fasttext.load_model('cc.en.300.bin')\n",
    "\n",
    "X_train_ft = X_train.copy()\n",
    "X_test_ft = X_test.copy()\n",
    "\n",
    "# Get sentence vector\n",
    "X_train_ft['#1 String'] = X_train_ft['#1 String'].apply(ft.get_sentence_vector)\n",
    "X_train_ft['#2 String'] = X_train_ft['#2 String'].apply(ft.get_sentence_vector)\n",
    "\n",
    "X_test_ft['#1 String'] = X_test_ft['#1 String'].apply(ft.get_sentence_vector)\n",
    "X_test_ft['#2 String'] = X_test_ft['#2 String'].apply(ft.get_sentence_vector)\n",
    "\n",
    "X_train_ft['cosine_score'] = X_train_ft.apply(lambda row: cosine_similarity(row['#1 String'], row['#2 String']), axis=1)\n",
    "X_test_ft['cosine_score'] = X_test_ft.apply(lambda row: cosine_similarity(row['#1 String'], row['#2 String']), axis=1)\n",
    "\n",
    "# Display some rows of training data and testing data\n",
    "#display_side_by_side([X_train_ft.head(1), X_test_ft.head(1)], ['Cosine similarity score of training MRPC Data', 'Cosine similarity score of testing MRPC Data'])"
   ]
  },
  {
   "cell_type": "markdown",
   "id": "77e69a91",
   "metadata": {},
   "source": [
    "## Use logistic regression for estimate threshold and calculate accuracy score"
   ]
  },
  {
   "cell_type": "code",
   "execution_count": 12,
   "id": "af03ef78",
   "metadata": {},
   "outputs": [
    {
     "name": "stdout",
     "output_type": "stream",
     "text": [
      "Cosine similarity accuracy score using FastText on testing samples: 0.73 using estimate threshold = 0.821\n"
     ]
    }
   ],
   "source": [
    "# Estimate threshold, y, accuracy using logistic regression\n",
    "_, _, ytest_pred_cos, threshold_cos, accuracy_cos = lr_threshold(X_train_ft, y_train, X_test_ft, y_test, 'cosine_score')\n",
    "\n",
    "# Perform model on the testing  data using logistic regression threshold\n",
    "print('Cosine similarity accuracy score using FastText on testing samples:', round(accuracy_cos,3),'using estimate threshold =', round(threshold_cos,3))"
   ]
  },
  {
   "cell_type": "markdown",
   "id": "55f19092",
   "metadata": {},
   "source": [
    "# 6) Repeat 5) when using BERT embedding "
   ]
  },
  {
   "cell_type": "code",
   "execution_count": 15,
   "id": "fca9c693",
   "metadata": {},
   "outputs": [],
   "source": [
    "from sentence_transformers import SentenceTransformer\n",
    "#from .autonotebook import tqdm as notebook_tqdm\n",
    "model = SentenceTransformer('all-MiniLM-L6-v2')\n",
    "\n",
    "# Create copy\n",
    "X_train_bert = X_train.copy()\n",
    "X_test_bert = X_test.copy()\n",
    "\n",
    "# Apply sentences BERT embdedding on data\n",
    "X_train_bert['#1 String'] = X_train_bert['#1 String'].apply(model.encode)\n",
    "X_train_bert['#2 String'] = X_train_bert['#2 String'].apply(model.encode)\n",
    "\n",
    "X_test_bert['#1 String'] = X_test_bert['#1 String'].apply(model.encode)\n",
    "X_test_bert['#2 String'] = X_test_bert['#2 String'].apply(model.encode)\n",
    "\n",
    "# Use cosine similarity to estimate the similarity between the two sentences.\n",
    "X_train_bert['cosine_score'] = X_train_bert.apply(lambda row: cosine_similarity(row['#1 String'], row['#2 String']), axis=1)\n",
    "X_test_bert['cosine_score'] = X_test_bert.apply(lambda row: cosine_similarity(row['#1 String'], row['#2 String']), axis=1)"
   ]
  },
  {
   "cell_type": "markdown",
   "id": "004d452d",
   "metadata": {},
   "source": [
    "## Use logistic regression for estimate threshold and calculate accuracy score"
   ]
  },
  {
   "cell_type": "code",
   "execution_count": 16,
   "id": "172e68aa",
   "metadata": {},
   "outputs": [
    {
     "name": "stdout",
     "output_type": "stream",
     "text": [
      "Cosine similarity accuracy score using BERT on testing samples: 0.75 using estimate threshold = 0.665\n"
     ]
    }
   ],
   "source": [
    "# Estimate threshold, y, accuracy using logistic regression\n",
    "_, _, ytest_pred_cos2, threshold_cos2, accuracy_cos2 = lr_threshold(X_train_bert, y_train, X_test_bert, y_test, 'cosine_score')\n",
    "\n",
    "# Perform model on the testing  data using logistic regression threshold\n",
    "print('Cosine similarity accuracy score using BERT on testing samples:', round(accuracy_cos2,3),'using estimate threshold =', round(threshold_cos2,3))"
   ]
  },
  {
   "cell_type": "markdown",
   "id": "d6fb087d",
   "metadata": {},
   "source": [
    "## Confusion matrix of testing original data using FastText and BERT"
   ]
  },
  {
   "cell_type": "code",
   "execution_count": 17,
   "id": "b5fbacd9",
   "metadata": {},
   "outputs": [
    {
     "name": "stdout",
     "output_type": "stream",
     "text": [
      "\u001b[1m    Confusion matrix of testing original data using FastText\u001b[0m\n"
     ]
    },
    {
     "data": {
      "image/png": "[encoded data removed]",
      "text/plain": [
       "<Figure size 640x480 with 2 Axes>"
      ]
     },
     "metadata": {},
     "output_type": "display_data"
    },
    {
     "name": "stdout",
     "output_type": "stream",
     "text": [
      "\u001b[1m     Confusion matrix of testing original data using BERT\u001b[0m\n"
     ]
    },
    {
     "data": {
      "image/png": "[encoded data removed]",
      "text/plain": [
       "<Figure size 640x480 with 2 Axes>"
      ]
     },
     "metadata": {},
     "output_type": "display_data"
    }
   ],
   "source": [
    "cm = confusion_matrix(y_test.to_numpy(), ytest_pred_cos)\n",
    "cmd = ConfusionMatrixDisplay(cm, display_labels=['1','0'])\n",
    "print('\\033[1m' + '    Confusion matrix of testing original data using FastText' + '\\033[0m')\n",
    "cmd.plot()\n",
    "plt.show()\n",
    "\n",
    "cm = confusion_matrix(y_test.to_numpy(), ytest_pred_cos2)\n",
    "cmd = ConfusionMatrixDisplay(cm, display_labels=['1','0'])\n",
    "print('\\033[1m' + '     Confusion matrix of testing original data using BERT' + '\\033[0m')\n",
    "cmd.plot()\n",
    "plt.show()"
   ]
  },
  {
   "cell_type": "markdown",
   "id": "3b8dd54b",
   "metadata": {},
   "source": [
    "# 7) Use Tf-Idf for feature space, Support Vector Machine as a classifier in order to use the existing labelling and estimate the accuracy on the testing dataset"
   ]
  },
  {
   "cell_type": "code",
   "execution_count": 18,
   "id": "12306d05",
   "metadata": {},
   "outputs": [
    {
     "name": "stdout",
     "output_type": "stream",
     "text": [
      "Tf-idf feature accuracy score using SVM: 0.725\n"
     ]
    }
   ],
   "source": [
    "from sklearn.feature_extraction.text import TfidfVectorizer\n",
    "from sklearn.pipeline import Pipeline\n",
    "from sklearn import svm\n",
    "from sklearn.compose import ColumnTransformer\n",
    "\n",
    "# Create copy\n",
    "X_train_tf = X_train.copy()\n",
    "X_test_tf = X_test.copy()\n",
    "\n",
    "# Declare tf-idf vector\n",
    "vectorizer1 = TfidfVectorizer()\n",
    "vectorizer2 = TfidfVectorizer()\n",
    "\n",
    "# Create 2 features data using string 1 and 2\n",
    "xtrain = X_train_tf[['#1 String','#2 String']]\n",
    "xtest = X_test_tf[['#1 String','#2 String']]\n",
    "# Construct the column transfomer\n",
    "column_transformer = ColumnTransformer(\n",
    "    [('tfidf1', vectorizer1, '#1 String'), \n",
    "    ('tfidf2', vectorizer2, '#2 String')],\n",
    "    remainder='passthrough')\n",
    "\n",
    "# Fit the model\n",
    "clf = svm.SVC()\n",
    "pipe = Pipeline([\n",
    "                  ('tfidf', column_transformer),\n",
    "                  ('classify', clf)\n",
    "                ])\n",
    "pipe.fit(xtrain, y_train.to_numpy())\n",
    "ytest_pred_tf = pipe.predict(xtest)\n",
    "print('Tf-idf feature accuracy score using SVM:', round(accuracy_score(ytest_pred_tf, y_test.to_numpy()),3))"
   ]
  },
  {
   "cell_type": "code",
   "execution_count": null,
   "id": "0b8e882e",
   "metadata": {},
   "outputs": [],
   "source": []
  }
 ],
 "metadata": {
  "kernelspec": {
   "display_name": "Python 3 (ipykernel)",
   "language": "python",
   "name": "python3"
  },
  "language_info": {
   "codemirror_mode": {
    "name": "ipython",
    "version": 3
   },
   "file_extension": ".py",
   "mimetype": "text/x-python",
   "name": "python",
   "nbconvert_exporter": "python",
   "pygments_lexer": "ipython3",
   "version": "3.8.13"
  }
 },
 "nbformat": 4,
 "nbformat_minor": 5
}
